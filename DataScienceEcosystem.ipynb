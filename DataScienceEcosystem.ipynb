{
  "nbformat": 4,
  "nbformat_minor": 0,
  "metadata": {
    "colab": {
      "provenance": [],
      "toc_visible": true
    },
    "kernelspec": {
      "name": "python3",
      "display_name": "Python 3"
    },
    "language_info": {
      "name": "python"
    }
  },
  "cells": [
    {
      "cell_type": "code",
      "execution_count": null,
      "metadata": {
        "id": "3QlPRe_pTLQF"
      },
      "outputs": [],
      "source": []
    },
    {
      "cell_type": "markdown",
      "source": [
        "#Data Science Tools and Ecosystem"
      ],
      "metadata": {
        "id": "5-LK_JEIU0-N"
      }
    },
    {
      "cell_type": "markdown",
      "source": [
        "###In this notebook, Data Science Tools and Ecosystem are summarized."
      ],
      "metadata": {
        "id": "hbedGTcKU_UN"
      }
    },
    {
      "cell_type": "markdown",
      "source": [
        "#Objectives:\n",
        "\n",
        "\n",
        "*   Popular Languages\n",
        "*   Common Libraries\n",
        "*   Data Science Tools\n",
        "*   Arithmetic Expressions\n",
        "\n",
        "\n",
        "\n"
      ],
      "metadata": {
        "id": "v7-SbsVVY1-b"
      }
    },
    {
      "cell_type": "markdown",
      "source": [
        "##Author:\n",
        "Gavin Huang"
      ],
      "metadata": {
        "id": "3FoF5733Zkyp"
      }
    },
    {
      "cell_type": "markdown",
      "source": [
        "Some of the popular languages that Data Scientists use are:\n",
        "\n",
        "\n",
        "1.   Python\n",
        "2.   SQL\n",
        "3.   R\n",
        "4.   Julia\n",
        "5.   Scala\n",
        "\n",
        "\n"
      ],
      "metadata": {
        "id": "t7TML_7KVNig"
      }
    },
    {
      "cell_type": "markdown",
      "source": [
        "Some of the commonly used libraries used by Data Scientists include:\n",
        "\n",
        "\n",
        "\n",
        "1.   matplotlib\n",
        "2.   scikit learn\n",
        "3.   ggplot\n",
        "4.   numpy\n",
        "5.   plotly\n",
        "6.   pytorch\n",
        "\n"
      ],
      "metadata": {
        "id": "B1F_SyIgVy06"
      }
    },
    {
      "cell_type": "markdown",
      "source": [
        "| Data Science Tools |\n",
        "|--------------------|\n",
        "| RStudio            |\n",
        "| Apache Spark       |\n",
        "| Apache Hadoop      |"
      ],
      "metadata": {
        "id": "rfT_x4h1W5GD"
      }
    },
    {
      "cell_type": "markdown",
      "source": [
        "Below are a few examples of evaluating arithmetic expressions in Python:"
      ],
      "metadata": {
        "id": "vqmzxKNEYGsE"
      }
    },
    {
      "cell_type": "code",
      "source": [
        "#this is a simple arithmetic expression to multiply then add integers\n",
        "print(3*4+5)"
      ],
      "metadata": {
        "colab": {
          "base_uri": "https://localhost:8080/"
        },
        "id": "dgpONg0kVW9o",
        "outputId": "20fdc579-7f55-4e6f-89b4-f401c1407414"
      },
      "execution_count": 1,
      "outputs": [
        {
          "output_type": "stream",
          "name": "stdout",
          "text": [
            "17\n"
          ]
        }
      ]
    },
    {
      "cell_type": "code",
      "source": [
        "#This will convert 200 minutes to hours by dividing by 60\n",
        "print(200/60)"
      ],
      "metadata": {
        "colab": {
          "base_uri": "https://localhost:8080/"
        },
        "id": "VJqvl0kyYeD_",
        "outputId": "82239288-0965-4c06-e792-2911cf5a3c3f"
      },
      "execution_count": 4,
      "outputs": [
        {
          "output_type": "stream",
          "name": "stdout",
          "text": [
            "3.3333333333333335\n"
          ]
        }
      ]
    },
    {
      "cell_type": "markdown",
      "source": [],
      "metadata": {
        "id": "9WlR0hTcYvnE"
      }
    },
    {
      "cell_type": "code",
      "source": [],
      "metadata": {
        "id": "_zKhDn6JYuAt"
      },
      "execution_count": null,
      "outputs": []
    }
  ]
}